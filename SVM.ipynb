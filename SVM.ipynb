{
 "cells": [
  {
   "cell_type": "code",
   "execution_count": 1,
   "metadata": {},
   "outputs": [],
   "source": [
    "import pandas as pd\n",
    "from sklearn.model_selection import train_test_split\n",
    "from sklearn.preprocessing import LabelEncoder, StandardScaler\n",
    "from sklearn.svm import SVC\n",
    "from sklearn.metrics import accuracy_score, f1_score, confusion_matrix\n",
    "\n",
    "# Load the dataset\n",
    "data = pd.read_csv('dataset.csv', delimiter=';')\n",
    "\n",
    "# Identifying feature columns and target column\n",
    "X = data.drop(columns=['Target'])\n",
    "y = data['Target']\n",
    "\n",
    "# Scaling the features\n",
    "scaler = StandardScaler()\n",
    "X_scaled = scaler.fit_transform(X)\n",
    "\n",
    "# Train-test split\n",
    "X_train, X_test, y_train, y_test = train_test_split(X_scaled, y, test_size=0.3, random_state=42)\n"
   ]
  },
  {
   "cell_type": "code",
   "execution_count": 2,
   "metadata": {},
   "outputs": [
    {
     "data": {
      "text/plain": [
       "{'Train Accuracy': 0.7803617571059431,\n",
       " 'Test Accuracy': 0.7643072289156626,\n",
       " 'Train F1 Macro': 0.7039734158519528,\n",
       " 'Test F1 Macro': 0.6814289561080694,\n",
       " 'Train Confusion Matrix': array([[ 731,   99,  150],\n",
       "        [ 103,  212,  234],\n",
       "        [  27,   67, 1473]], dtype=int64),\n",
       " 'Test Confusion Matrix': array([[342,  36,  63],\n",
       "        [ 61,  79, 105],\n",
       "        [ 13,  35, 594]], dtype=int64)}"
      ]
     },
     "execution_count": 2,
     "metadata": {},
     "output_type": "execute_result"
    }
   ],
   "source": [
    "\n",
    "# Train SVM model\n",
    "svc = SVC(kernel='linear', random_state=42)\n",
    "svc.fit(X_train, y_train)\n",
    "\n",
    "# Predictions\n",
    "train_predictions = svc.predict(X_train)\n",
    "test_predictions = svc.predict(X_test)\n",
    "\n",
    "# Model evaluation\n",
    "train_accuracy = accuracy_score(y_train, train_predictions)\n",
    "test_accuracy = accuracy_score(y_test, test_predictions)\n",
    "\n",
    "# F1-score calculation for multiclass targets\n",
    "train_f1_macro = f1_score(y_train, train_predictions, average='macro')\n",
    "test_f1_macro = f1_score(y_test, test_predictions, average='macro')\n",
    "\n",
    "# Confusion matrices\n",
    "train_conf_matrix = confusion_matrix(y_train, train_predictions)\n",
    "test_conf_matrix = confusion_matrix(y_test, test_predictions)\n",
    "\n",
    "results = {\n",
    "    \"Train Accuracy\": train_accuracy,\n",
    "    \"Test Accuracy\": test_accuracy,\n",
    "    \"Train F1 Macro\": train_f1_macro,\n",
    "    \"Test F1 Macro\": test_f1_macro,\n",
    "    \"Train Confusion Matrix\": train_conf_matrix,\n",
    "    \"Test Confusion Matrix\": test_conf_matrix\n",
    "}\n",
    "\n",
    "results\n"
   ]
  },
  {
   "cell_type": "code",
   "execution_count": 3,
   "metadata": {},
   "outputs": [
    {
     "data": {
      "text/plain": [
       "{'Train Accuracy': 0.7803617571059431,\n",
       " 'Test Accuracy': 0.7643072289156626,\n",
       " 'Train F1 Macro': 0.7039734158519528,\n",
       " 'Test F1 Macro': 0.6814289561080694,\n",
       " 'Train Confusion Matrix': array([[ 731,   99,  150],\n",
       "        [ 103,  212,  234],\n",
       "        [  27,   67, 1473]], dtype=int64),\n",
       " 'Test Confusion Matrix': array([[342,  36,  63],\n",
       "        [ 61,  79, 105],\n",
       "        [ 13,  35, 594]], dtype=int64)}"
      ]
     },
     "execution_count": 3,
     "metadata": {},
     "output_type": "execute_result"
    }
   ],
   "source": [
    "results"
   ]
  }
 ],
 "metadata": {
  "kernelspec": {
   "display_name": "base",
   "language": "python",
   "name": "python3"
  },
  "language_info": {
   "codemirror_mode": {
    "name": "ipython",
    "version": 3
   },
   "file_extension": ".py",
   "mimetype": "text/x-python",
   "name": "python",
   "nbconvert_exporter": "python",
   "pygments_lexer": "ipython3",
   "version": "3.12.4"
  },
  "orig_nbformat": 4,
  "vscode": {
   "interpreter": {
    "hash": "552a51fc079cb4b3409bba876f440114fb828c9221ab4f302d5d32288135c7f7"
   }
  }
 },
 "nbformat": 4,
 "nbformat_minor": 2
}
