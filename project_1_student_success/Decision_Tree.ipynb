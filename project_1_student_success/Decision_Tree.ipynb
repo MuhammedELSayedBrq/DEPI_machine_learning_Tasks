{
 "cells": [
  {
   "attachments": {},
   "cell_type": "markdown",
   "metadata": {},
   "source": [
    "# Decision Tree Model Application on Custom Dataset"
   ]
  },
  {
   "attachments": {},
   "cell_type": "markdown",
   "metadata": {},
   "source": [
    "## Data Loading and Preprocessing"
   ]
  },
  {
   "cell_type": "code",
   "execution_count": 3,
   "metadata": {},
   "outputs": [],
   "source": [
    "\n",
    "import pandas as pd\n",
    "from sklearn.model_selection import train_test_split\n",
    "from sklearn.preprocessing import LabelEncoder, StandardScaler\n",
    "from sklearn.tree import DecisionTreeClassifier\n",
    "from sklearn.metrics import accuracy_score, confusion_matrix\n",
    "\n",
    "data = pd.read_csv('dataset.csv', delimiter=';')\n",
    "\n",
    "X = data.drop(columns=['Target'])\n",
    "y = data['Target']\n",
    "\n",
    "scaler = StandardScaler()\n",
    "X_scaled = scaler.fit_transform(X)\n",
    "\n",
    "X_train, X_test, y_train, y_test = train_test_split(X_scaled, y, test_size=0.2, random_state=42)"
   ]
  },
  {
   "attachments": {},
   "cell_type": "markdown",
   "metadata": {},
   "source": [
    "## Decision Tree Model Training and Evaluation"
   ]
  },
  {
   "cell_type": "code",
   "execution_count": 4,
   "metadata": {},
   "outputs": [
    {
     "data": {
      "text/plain": [
       "{'Gini Criterion': {'Train Accuracy': 1.0,\n",
       "  'Test Accuracy': 0.6926553672316385,\n",
       "  'Train Confusion Matrix': array([[1105,    0,    0],\n",
       "         [   0,  643,    0],\n",
       "         [   0,    0, 1791]], dtype=int64),\n",
       "  'Test Confusion Matrix': array([[205,  60,  51],\n",
       "         [ 33,  63,  55],\n",
       "         [ 35,  38, 345]], dtype=int64)},\n",
       " 'Entropy Criterion': {'Train Accuracy': 1.0,\n",
       "  'Test Accuracy': 0.6903954802259887,\n",
       "  'Train Confusion Matrix': array([[1105,    0,    0],\n",
       "         [   0,  643,    0],\n",
       "         [   0,    0, 1791]], dtype=int64),\n",
       "  'Test Confusion Matrix': array([[220,  50,  46],\n",
       "         [ 47,  54,  50],\n",
       "         [ 39,  42, 337]], dtype=int64)}}"
      ]
     },
     "execution_count": 4,
     "metadata": {},
     "output_type": "execute_result"
    }
   ],
   "source": [
    "clf_gini = DecisionTreeClassifier(criterion='gini', random_state=42)\n",
    "clf_gini.fit(X_train, y_train)\n",
    "\n",
    "y_pred_train_gini = clf_gini.predict(X_train)\n",
    "y_pred_test_gini = clf_gini.predict(X_test)\n",
    "\n",
    "train_accuracy_gini = accuracy_score(y_train, y_pred_train_gini)\n",
    "test_accuracy_gini = accuracy_score(y_test, y_pred_test_gini)\n",
    "\n",
    "train_conf_matrix_gini = confusion_matrix(y_train, y_pred_train_gini)\n",
    "test_conf_matrix_gini = confusion_matrix(y_test, y_pred_test_gini)\n",
    "\n",
    "clf_entropy = DecisionTreeClassifier(criterion='entropy', random_state=42)\n",
    "clf_entropy.fit(X_train, y_train)\n",
    "\n",
    "y_pred_train_entropy = clf_entropy.predict(X_train)\n",
    "y_pred_test_entropy = clf_entropy.predict(X_test)\n",
    "\n",
    "train_accuracy_entropy = accuracy_score(y_train, y_pred_train_entropy)\n",
    "test_accuracy_entropy = accuracy_score(y_test, y_pred_test_entropy)\n",
    "\n",
    "train_conf_matrix_entropy = confusion_matrix(y_train, y_pred_train_entropy)\n",
    "test_conf_matrix_entropy = confusion_matrix(y_test, y_pred_test_entropy)\n",
    "\n",
    "# Collecting the results\n",
    "decision_tree_results = {\n",
    "    \"Gini Criterion\": {\n",
    "        \"Train Accuracy\": train_accuracy_gini,\n",
    "        \"Test Accuracy\": test_accuracy_gini,\n",
    "        \"Train Confusion Matrix\": train_conf_matrix_gini,\n",
    "        \"Test Confusion Matrix\": test_conf_matrix_gini\n",
    "    },\n",
    "    \"Entropy Criterion\": {\n",
    "        \"Train Accuracy\": train_accuracy_entropy,\n",
    "        \"Test Accuracy\": test_accuracy_entropy,\n",
    "        \"Train Confusion Matrix\": train_conf_matrix_entropy,\n",
    "        \"Test Confusion Matrix\": test_conf_matrix_entropy\n",
    "    }\n",
    "}\n",
    "\n",
    "decision_tree_results\n"
   ]
  },
  {
   "cell_type": "code",
   "execution_count": null,
   "metadata": {},
   "outputs": [],
   "source": []
  }
 ],
 "metadata": {
  "kernelspec": {
   "display_name": "base",
   "language": "python",
   "name": "python3"
  },
  "language_info": {
   "codemirror_mode": {
    "name": "ipython",
    "version": 3
   },
   "file_extension": ".py",
   "mimetype": "text/x-python",
   "name": "python",
   "nbconvert_exporter": "python",
   "pygments_lexer": "ipython3",
   "version": "3.12.3"
  },
  "orig_nbformat": 4,
  "vscode": {
   "interpreter": {
    "hash": "552a51fc079cb4b3409bba876f440114fb828c9221ab4f302d5d32288135c7f7"
   }
  }
 },
 "nbformat": 4,
 "nbformat_minor": 2
}
