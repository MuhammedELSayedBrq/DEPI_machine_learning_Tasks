{
 "cells": [
  {
   "attachments": {},
   "cell_type": "markdown",
   "metadata": {},
   "source": [
    "# Decision Tree Model Application on Custom Dataset"
   ]
  },
  {
   "attachments": {},
   "cell_type": "markdown",
   "metadata": {},
   "source": [
    "## Data Loading and Preprocessing"
   ]
  },
  {
   "cell_type": "code",
   "execution_count": 2,
   "metadata": {},
   "outputs": [],
   "source": [
    "\n",
    "import pandas as pd\n",
    "from sklearn.model_selection import train_test_split\n",
    "from sklearn.preprocessing import LabelEncoder, StandardScaler\n",
    "from sklearn.tree import DecisionTreeClassifier\n",
    "from sklearn.metrics import accuracy_score, confusion_matrix\n",
    "\n",
    "# Load the dataset\n",
    "data = pd.read_csv('dataset.csv', delimiter=';')\n",
    "\n",
    "# Encoding the target variable\n",
    "label_encoder = LabelEncoder()\n",
    "data['Target'] = label_encoder.fit_transform(data['Target'])\n",
    "\n",
    "# Identifying feature columns and target column\n",
    "X = data.drop(columns=['Target'])\n",
    "y = data['Target']\n",
    "\n",
    "# Scaling the features\n",
    "scaler = StandardScaler()\n",
    "X_scaled = scaler.fit_transform(X)\n",
    "\n",
    "# Train-test split\n",
    "X_train, X_test, y_train, y_test = train_test_split(X_scaled, y, test_size=0.3, random_state=42)\n"
   ]
  },
  {
   "attachments": {},
   "cell_type": "markdown",
   "metadata": {},
   "source": [
    "## Decision Tree Model Training and Evaluation"
   ]
  },
  {
   "cell_type": "code",
   "execution_count": 3,
   "metadata": {},
   "outputs": [
    {
     "data": {
      "text/plain": [
       "{'Gini Criterion': {'Train Accuracy': 1.0,\n",
       "  'Test Accuracy': 0.6844879518072289,\n",
       "  'Train Confusion Matrix': array([[ 980,    0,    0],\n",
       "         [   0,  549,    0],\n",
       "         [   0,    0, 1567]], dtype=int64),\n",
       "  'Test Confusion Matrix': array([[311,  62,  68],\n",
       "         [ 73,  89,  83],\n",
       "         [ 53,  80, 509]], dtype=int64)},\n",
       " 'Entropy Criterion': {'Train Accuracy': 1.0,\n",
       "  'Test Accuracy': 0.6746987951807228,\n",
       "  'Train Confusion Matrix': array([[ 980,    0,    0],\n",
       "         [   0,  549,    0],\n",
       "         [   0,    0, 1567]], dtype=int64),\n",
       "  'Test Confusion Matrix': array([[308,  77,  56],\n",
       "         [ 74,  87,  84],\n",
       "         [ 63,  78, 501]], dtype=int64)}}"
      ]
     },
     "execution_count": 3,
     "metadata": {},
     "output_type": "execute_result"
    }
   ],
   "source": [
    "\n",
    "# Initialize the Decision Tree classifier with the 'gini' criterion\n",
    "clf_gini = DecisionTreeClassifier(criterion='gini', random_state=42)\n",
    "clf_gini.fit(X_train, y_train)\n",
    "\n",
    "# Predicting the results\n",
    "y_pred_train_gini = clf_gini.predict(X_train)\n",
    "y_pred_test_gini = clf_gini.predict(X_test)\n",
    "\n",
    "# Training and test accuracy\n",
    "train_accuracy_gini = accuracy_score(y_train, y_pred_train_gini)\n",
    "test_accuracy_gini = accuracy_score(y_test, y_pred_test_gini)\n",
    "\n",
    "# Confusion matrices for training and test sets\n",
    "train_conf_matrix_gini = confusion_matrix(y_train, y_pred_train_gini)\n",
    "test_conf_matrix_gini = confusion_matrix(y_test, y_pred_test_gini)\n",
    "\n",
    "# Repeating the process with 'entropy' criterion\n",
    "clf_entropy = DecisionTreeClassifier(criterion='entropy', random_state=42)\n",
    "clf_entropy.fit(X_train, y_train)\n",
    "\n",
    "y_pred_train_entropy = clf_entropy.predict(X_train)\n",
    "y_pred_test_entropy = clf_entropy.predict(X_test)\n",
    "\n",
    "# Training and test accuracy for entropy criterion\n",
    "train_accuracy_entropy = accuracy_score(y_train, y_pred_train_entropy)\n",
    "test_accuracy_entropy = accuracy_score(y_test, y_pred_test_entropy)\n",
    "\n",
    "# Confusion matrices for training and test sets with entropy criterion\n",
    "train_conf_matrix_entropy = confusion_matrix(y_train, y_pred_train_entropy)\n",
    "test_conf_matrix_entropy = confusion_matrix(y_test, y_pred_test_entropy)\n",
    "\n",
    "# Collecting the results\n",
    "decision_tree_results = {\n",
    "    \"Gini Criterion\": {\n",
    "        \"Train Accuracy\": train_accuracy_gini,\n",
    "        \"Test Accuracy\": test_accuracy_gini,\n",
    "        \"Train Confusion Matrix\": train_conf_matrix_gini,\n",
    "        \"Test Confusion Matrix\": test_conf_matrix_gini\n",
    "    },\n",
    "    \"Entropy Criterion\": {\n",
    "        \"Train Accuracy\": train_accuracy_entropy,\n",
    "        \"Test Accuracy\": test_accuracy_entropy,\n",
    "        \"Train Confusion Matrix\": train_conf_matrix_entropy,\n",
    "        \"Test Confusion Matrix\": test_conf_matrix_entropy\n",
    "    }\n",
    "}\n",
    "\n",
    "decision_tree_results\n"
   ]
  },
  {
   "cell_type": "markdown",
   "metadata": {},
   "source": []
  }
 ],
 "metadata": {
  "kernelspec": {
   "display_name": "base",
   "language": "python",
   "name": "python3"
  },
  "language_info": {
   "codemirror_mode": {
    "name": "ipython",
    "version": 3
   },
   "file_extension": ".py",
   "mimetype": "text/x-python",
   "name": "python",
   "nbconvert_exporter": "python",
   "pygments_lexer": "ipython3",
   "version": "3.12.4"
  },
  "orig_nbformat": 4,
  "vscode": {
   "interpreter": {
    "hash": "552a51fc079cb4b3409bba876f440114fb828c9221ab4f302d5d32288135c7f7"
   }
  }
 },
 "nbformat": 4,
 "nbformat_minor": 2
}
